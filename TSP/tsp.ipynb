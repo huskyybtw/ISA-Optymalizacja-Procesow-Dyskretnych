{
 "cells": [
  {
   "cell_type": "markdown",
   "metadata": {},
   "source": [
    "# Traveling sales'man problem\n",
    "\n",
    "## Lab1 \n",
    "- Rozwiazanie pokolei\n",
    "- Zachlanne zawsze do najblizszego\n",
    "- Losowo\n",
    "\n",
    "Rozplatywanie rozwiazania jesli 4 weirzcholki sie przecinaja to jest to udowodnione ze jest to nieoptymalne i trzeba zamienic kolejnosc\n",
    "\n",
    "Wizualizacja wierzcholki i polaczenia w formie graficznej\n",
    "\n",
    "tsp lib / ckroA"
   ]
  },
  {
   "cell_type": "code",
   "execution_count": null,
   "metadata": {},
   "outputs": [
    {
     "name": "stdout",
     "output_type": "stream",
     "text": [
      "[(1, 16.47, 96.1), (2, 16.47, 94.44), (3, 20.09, 92.54), (4, 22.39, 93.37), (5, 25.23, 97.24), (6, 22.0, 96.05), (7, 20.47, 97.02), (8, 17.2, 96.29), (9, 16.3, 97.38), (10, 14.05, 98.12), (11, 16.53, 97.38), (12, 21.52, 95.59), (13, 19.41, 97.13), (14, 20.09, 94.55)]\n"
     ]
    }
   ],
   "source": [
    "def load_file(filename):\n",
    "    with open(filename, 'r') as file:\n",
    "        data = []\n",
    "        found_section = False\n",
    "        for line in file:\n",
    "            line = line.strip()\n",
    "            if not found_section:\n",
    "                if line == \"NODE_COORD_SECTION\":\n",
    "                    found_section = True\n",
    "            else:\n",
    "                if line == \"EOF\":\n",
    "                    break\n",
    "                parts = line.split()\n",
    "                if len(parts) == 3:\n",
    "                    data.append((int(parts[0]), float(parts[1]), float(parts[2])))\n",
    "        return data\n",
    "\n",
    "print(load_file(\"burma14.tsp\"))\n"
   ]
  },
  {
   "cell_type": "code",
   "execution_count": 3,
   "metadata": {},
   "outputs": [
    {
     "name": "stdout",
     "output_type": "stream",
     "text": [
      "(42.48777311762968, [(1, 16.47, 96.1), (2, 16.47, 94.44), (3, 20.09, 92.54), (4, 22.39, 93.37), (5, 25.23, 97.24), (6, 22.0, 96.05), (7, 20.47, 97.02), (8, 17.2, 96.29), (9, 16.3, 97.38), (10, 14.05, 98.12), (11, 16.53, 97.38), (12, 21.52, 95.59), (13, 19.41, 97.13), (14, 20.09, 94.55)])\n"
     ]
    }
   ],
   "source": [
    "def calculate_distance_unordered(data):\n",
    "    distance = 0\n",
    "    order = []\n",
    "    order.append(data[0])\n",
    "\n",
    "    for i in range(len(data)):\n",
    "        if i == 0:\n",
    "            continue\n",
    "        dist = ((data[i][1] - order[i-1][1]) ** 2 + (data[i][2] - order[i-1][2]) ** 2) ** 0.5\n",
    "        order.append(data[i])\n",
    "        distance += dist\n",
    "    distance += ((data[0][1] - order[-1][1]) ** 2 + (data[0][2] - order[-1][2]) ** 2) ** 0.5\n",
    "    return distance, order\n",
    "print(calculate_distance_unordered(load_file(\"burma14.tsp\")))"
   ]
  },
  {
   "cell_type": "code",
   "execution_count": 4,
   "metadata": {},
   "outputs": [
    {
     "name": "stdout",
     "output_type": "stream",
     "text": [
      "(56.0760221919262, [(3, 20.09, 92.54), (12, 21.52, 95.59), (9, 16.3, 97.38), (11, 16.53, 97.38), (4, 22.39, 93.37), (5, 25.23, 97.24), (1, 16.47, 96.1), (14, 20.09, 94.55), (6, 22.0, 96.05), (7, 20.47, 97.02), (13, 19.41, 97.13), (8, 17.2, 96.29), (2, 16.47, 94.44), (10, 14.05, 98.12)])\n"
     ]
    }
   ],
   "source": [
    "def calculate_distance_random(data):\n",
    "    import random\n",
    "    random.shuffle(data)\n",
    "    distance = 0\n",
    "    order = []\n",
    "    order.append(data[0])\n",
    "\n",
    "    for i in range(len(data)):\n",
    "        if i == 0:\n",
    "            continue\n",
    "        dist = ((data[i][1] - order[i-1][1]) ** 2 + (data[i][2] - order[i-1][2]) ** 2) ** 0.5\n",
    "        order.append(data[i])\n",
    "        distance += dist\n",
    "    distance += ((data[0][1] - order[-1][1]) ** 2 + (data[0][2] - order[-1][2]) ** 2) ** 0.5\n",
    "    return distance, order\n",
    "print(calculate_distance_random(load_file(\"burma14.tsp\")))"
   ]
  },
  {
   "cell_type": "code",
   "execution_count": 5,
   "metadata": {},
   "outputs": [
    {
     "name": "stdout",
     "output_type": "stream",
     "text": [
      "(0, [(1, 16.47, 96.1)])\n"
     ]
    }
   ],
   "source": [
    "def calculate_distance_greedy(data):\n",
    "    distance = 0\n",
    "    order = []\n",
    "    order.append(data[0])\n",
    "    return distance, order\n",
    "print(calculate_distance_greedy(load_file(\"burma14.tsp\")))"
   ]
  }
 ],
 "metadata": {
  "kernelspec": {
   "display_name": "Python 3",
   "language": "python",
   "name": "python3"
  },
  "language_info": {
   "codemirror_mode": {
    "name": "ipython",
    "version": 3
   },
   "file_extension": ".py",
   "mimetype": "text/x-python",
   "name": "python",
   "nbconvert_exporter": "python",
   "pygments_lexer": "ipython3",
   "version": "3.12.3"
  }
 },
 "nbformat": 4,
 "nbformat_minor": 2
}
