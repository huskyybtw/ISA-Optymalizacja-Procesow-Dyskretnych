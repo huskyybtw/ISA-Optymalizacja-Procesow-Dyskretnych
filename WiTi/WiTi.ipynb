{
 "cells": [
  {
   "cell_type": "markdown",
   "metadata": {},
   "source": [
    "Dla danego szeregowania należy wyliczyć wartość kary oraz optymalna kolejność zadań\n",
    "\n",
    "Dane skladaja sie z trzech tabel\n",
    "- czas produkcji\n",
    "- waga (wysokość kary)\n",
    "- pozadany czas produkcji\n",
    "\n",
    "### LAB 4\n",
    "\n",
    "Obliczanie wartości kary na podstawie zadanej kolejności zadań\n",
    "\n"
   ]
  },
  {
   "cell_type": "code",
   "execution_count": null,
   "metadata": {},
   "outputs": [
    {
     "name": "stdout",
     "output_type": "stream",
     "text": [
      "[[1, 2, 748], [46, 5, 216], [5, 7, 673], [93, 4, 514], [83, 1, 52], [53, 7, 7], [38, 1, 413], [68, 6, 922], [84, 5, 91], [65, 4, 694]]\n"
     ]
    }
   ],
   "source": [
    "file = \"witi.data.txt\"\n",
    "def load_data(data_name):\n",
    "    data = []\n",
    "    with open(file, 'r') as f:\n",
    "        append = False\n",
    "        for line in f.readlines():\n",
    "            if line.startswith(\"\\n\"):\n",
    "                append = False\n",
    "                \n",
    "            if append:\n",
    "                s = line.strip()\n",
    "                s = s.split()\n",
    "                if len(s) <= 1:\n",
    "                    continue\n",
    "                \n",
    "                data.append([int(s[0]), int(s[1]), int(s[2])])\n",
    "            if line.startswith(data_name):\n",
    "                append = True\n",
    "\n",
    "    return data\n",
    "print(load_data(\"data.10\"))"
   ]
  },
  {
   "cell_type": "code",
   "execution_count": 11,
   "metadata": {},
   "outputs": [
    {
     "name": "stdout",
     "output_type": "stream",
     "text": [
      "['data.10', 'data.11', 'data.12', 'data.13', 'data.14', 'data.15', 'data.16', 'data.17', 'data.18', 'data.19', 'data.20']\n"
     ]
    }
   ],
   "source": [
    "data_names = []\n",
    "for i in range(10, 21):\n",
    "    data_names.append(\"data.\" + str(i))\n",
    "print(data_names)"
   ]
  },
  {
   "cell_type": "code",
   "execution_count": null,
   "metadata": {},
   "outputs": [
    {
     "name": "stdout",
     "output_type": "stream",
     "text": [
      "13909\n"
     ]
    }
   ],
   "source": [
    "def calculate_raw(data):\n",
    "    penalty = 0\n",
    "    time = 0\n",
    "\n",
    "    for i in range(len(data)):\n",
    "        time += data[i][0]\n",
    "        if data[i][2] > time:\n",
    "            penalty += data[i][1] * (data[i][2] - time) \n",
    "    return penalty\n",
    "print(calculate_raw(load_data(\"data.11\")))\n",
    "        "
   ]
  }
 ],
 "metadata": {
  "kernelspec": {
   "display_name": "Python 3",
   "language": "python",
   "name": "python3"
  },
  "language_info": {
   "codemirror_mode": {
    "name": "ipython",
    "version": 3
   },
   "file_extension": ".py",
   "mimetype": "text/x-python",
   "name": "python",
   "nbconvert_exporter": "python",
   "pygments_lexer": "ipython3",
   "version": "3.12.3"
  }
 },
 "nbformat": 4,
 "nbformat_minor": 2
}
