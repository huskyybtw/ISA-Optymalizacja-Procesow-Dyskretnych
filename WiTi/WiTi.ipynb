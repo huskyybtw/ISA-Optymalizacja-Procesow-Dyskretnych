{
 "cells": [
  {
   "cell_type": "markdown",
   "metadata": {},
   "source": [
    "Dla danego szeregowania należy wyliczyć wartość kary oraz optymalna kolejność zadań\n",
    "\n",
    "Dane skladaja sie z trzech tabel\n",
    "- czas produkcji\n",
    "- waga (wysokość kary)\n",
    "- pozadany czas produkcji\n",
    "\n",
    "### LAB 4\n",
    "\n",
    "Obliczanie wartości kary na podstawie zadanej kolejności zadań\n",
    "\n"
   ]
  },
  {
   "cell_type": "code",
   "execution_count": 1,
   "metadata": {},
   "outputs": [
    {
     "name": "stdout",
     "output_type": "stream",
     "text": [
      "[[1, 2, 748], [46, 5, 216], [5, 7, 673], [93, 4, 514], [83, 1, 52], [53, 7, 7], [38, 1, 413], [68, 6, 922], [84, 5, 91], [65, 4, 694]]\n"
     ]
    }
   ],
   "source": [
    "file = \"witi.data.txt\"\n",
    "def load_data(data_name):\n",
    "    data = []\n",
    "    with open(file, 'r') as f:\n",
    "        append = False\n",
    "        for line in f.readlines():\n",
    "            if line.startswith(\"\\n\"):\n",
    "                append = False\n",
    "                \n",
    "            if append:\n",
    "                s = line.strip()\n",
    "                s = s.split()\n",
    "                if len(s) <= 1:\n",
    "                    continue\n",
    "                \n",
    "                data.append([int(s[0]), int(s[1]), int(s[2])])\n",
    "            if line.startswith(data_name):\n",
    "                append = True\n",
    "\n",
    "    return data\n",
    "print(load_data(\"data.10\"))"
   ]
  },
  {
   "cell_type": "code",
   "execution_count": 2,
   "metadata": {},
   "outputs": [
    {
     "name": "stdout",
     "output_type": "stream",
     "text": [
      "['data.10', 'data.11', 'data.12', 'data.13', 'data.14', 'data.15', 'data.16', 'data.17', 'data.18', 'data.19', 'data.20']\n"
     ]
    }
   ],
   "source": [
    "data_names = []\n",
    "for i in range(10, 21):\n",
    "    data_names.append(\"data.\" + str(i))\n",
    "print(data_names)"
   ]
  },
  {
   "cell_type": "code",
   "execution_count": 3,
   "metadata": {},
   "outputs": [
    {
     "name": "stdout",
     "output_type": "stream",
     "text": [
      "6323\n"
     ]
    }
   ],
   "source": [
    "def calculate_raw(data):\n",
    "    penalty = 0\n",
    "    time = 0\n",
    "\n",
    "    for i in range(len(data)):\n",
    "        time += data[i][0]  # dodaj czas trwania zadania\n",
    "        delay = max(0, time - data[i][2])  # opóźnienie = (czas zakończenia - deadline) lub 0\n",
    "        penalty += data[i][1] * delay  # kara: waga * opóźnienie\n",
    "    return penalty\n",
    "print(calculate_raw(load_data(\"data.11\")))\n",
    "        "
   ]
  },
  {
   "cell_type": "code",
   "execution_count": 4,
   "metadata": {},
   "outputs": [
    {
     "name": "stdout",
     "output_type": "stream",
     "text": [
      "Minimalna kara: 799\n",
      "Optymalna kolejność zadań: [5, 8, 1, 10, 4, 6, 9, 3, 7, 2, 0]\n"
     ]
    }
   ],
   "source": [
    "import math\n",
    "\n",
    "def witi_pd(data):\n",
    "    n = len(data)\n",
    "    dp = [math.inf] * (1 << n)  # inf dla wszystkich masek\n",
    "    dp[0] = 0  # dla pustego zbioru kara = 0\n",
    "    C = [0] * (1 << n)  # czas wykonania wszystkich zadań w masce\n",
    "    prev = [-1] * (1 << n)  # do odtworzenia kolejności\n",
    "    \n",
    "    # Precomputing C[mask]\n",
    "    for mask in range(1 << n):\n",
    "        for i in range(n):\n",
    "            if (mask >> i) & 1:\n",
    "                C[mask] += data[i][0]  # czas produkcji i-tego zadania\n",
    "\n",
    "    # Dynamiczne programowanie\n",
    "    for mask in range(1 << n):\n",
    "        for i in range(n):\n",
    "            if (mask >> i) & 1:  # jeśli zadanie i jest w masce\n",
    "                prev_mask = mask ^ (1 << i)  # usuwamy zadanie i\n",
    "                finish_time = C[mask]\n",
    "                delay = max(0, finish_time - data[i][2])  # opóźnienie\n",
    "                penalty = data[i][1] * delay\n",
    "                if dp[mask] > dp[prev_mask] + penalty:\n",
    "                    dp[mask] = dp[prev_mask] + penalty\n",
    "                    prev[mask] = i  # zapamiętaj co wybraliśmy ostatnio\n",
    "    \n",
    "    # Odtwarzanie kolejności\n",
    "    mask = (1 << n) - 1  # wszystkie zadania\n",
    "    order = []\n",
    "    while mask:\n",
    "        task = prev[mask]\n",
    "        order.append(task)\n",
    "        mask = mask ^ (1 << task)\n",
    "\n",
    "    order = order[::-1]  # odwrócenie kolejności, bo dodawaliśmy od końca\n",
    "\n",
    "    return dp[(1 << n) - 1], order  # zwracamy minimalną karę i kolejność zadań\n",
    "\n",
    "# Przykład użycia:\n",
    "data = load_data(\"data.11\")\n",
    "penalty, order = witi_pd(data)\n",
    "print(\"Minimalna kara:\", penalty)\n",
    "print(\"Optymalna kolejność zadań:\", order)\n"
   ]
  }
 ],
 "metadata": {
  "kernelspec": {
   "display_name": "Python 3",
   "language": "python",
   "name": "python3"
  },
  "language_info": {
   "codemirror_mode": {
    "name": "ipython",
    "version": 3
   },
   "file_extension": ".py",
   "mimetype": "text/x-python",
   "name": "python",
   "nbconvert_exporter": "python",
   "pygments_lexer": "ipython3",
   "version": "3.12.6"
  }
 },
 "nbformat": 4,
 "nbformat_minor": 2
}
